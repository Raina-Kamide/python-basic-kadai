{
  "nbformat": 4,
  "nbformat_minor": 0,
  "metadata": {
    "colab": {
      "provenance": []
    },
    "kernelspec": {
      "name": "python3",
      "display_name": "Python 3"
    },
    "language_info": {
      "name": "python"
    }
  },
  "cells": [
    {
      "cell_type": "code",
      "execution_count": 4,
      "metadata": {
        "colab": {
          "base_uri": "https://localhost:8080/"
        },
        "id": "-HjJFcRUElkA",
        "outputId": "a132de14-b53f-488a-db2a-79d48d5dd9df"
      },
      "outputs": [
        {
          "output_type": "stream",
          "name": "stdout",
          "text": [
            "330.0円\n"
          ]
        }
      ],
      "source": [
        "def add_two_arguments(price, tax):\n",
        "\n",
        "    total = price + price * (1 / tax)\n",
        "    print(f\"{total}円\")\n",
        "\n",
        "add_two_arguments(300,10)"
      ]
    }
  ]
}